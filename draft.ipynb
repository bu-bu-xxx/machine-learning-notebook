{
 "cells": [
  {
   "cell_type": "code",
   "execution_count": 4,
   "metadata": {},
   "outputs": [],
   "source": [
    "\n",
    "import numpy as np\n",
    "from matplotlib import pyplot as plt\n",
    "import pandas as pd\n",
    "\n",
    "# 固定种子，方便结果复现\n",
    "np.random.seed(77)"
   ]
  },
  {
   "cell_type": "markdown",
   "metadata": {},
   "source": []
  },
  {
   "cell_type": "code",
   "execution_count": 5,
   "metadata": {},
   "outputs": [
    {
     "name": "stdout",
     "output_type": "stream",
     "text": [
      "(2, 2)\n",
      "[[9.508032   0.         0.        ]\n",
      " [0.         0.77286964 0.        ]]\n",
      "[[1. 2. 3.]\n",
      " [4. 5. 6.]]\n",
      "*********************\n",
      "[[1 2 3]\n",
      " [4 5 6]]\n",
      "[4 5 6]\n",
      "[[4 5 6]]\n"
     ]
    },
    {
     "data": {
      "text/plain": [
       "array([[1, 4],\n",
       "       [2, 5],\n",
       "       [3, 6]])"
      ]
     },
     "execution_count": 5,
     "metadata": {},
     "output_type": "execute_result"
    }
   ],
   "source": [
    "a1 = np.array([[1,2,3],[4,5,6]])\n",
    "# print(a1.dot(np.linalg.pinv(a1)).dot(a1))\n",
    "u, s, v = np.linalg.svd(a1)\n",
    "print(u.shape)\n",
    "ss = np.hstack((np.diag(s), np.zeros((2,1))))\n",
    "print(ss)\n",
    "print(u.dot(ss).dot(v))\n",
    "print(\"*********************\")\n",
    "print(a1)\n",
    "print((a1)[1, :])\n",
    "print((a1)[(1,), :])\n",
    "a1.T\n",
    "\n",
    "\n"
   ]
  },
  {
   "cell_type": "code",
   "execution_count": 13,
   "metadata": {},
   "outputs": [
    {
     "name": "stdout",
     "output_type": "stream",
     "text": [
      "         weight  birthyear  children    hobby\n",
      "alice        68       1985       NaN   Biking\n",
      "bob          83       1984       3.0  Dancing\n",
      "charles     112       1992       0.0      NaN\n",
      "         weight  children\n",
      "alice        68       NaN\n",
      "charles     112       0.0\n",
      "<class 'numpy.float64'>\n",
      "-------------------\n",
      "weight       False\n",
      "birthyear    False\n",
      "children      True\n",
      "hobby         True\n",
      "dtype: bool\n",
      "<class 'pandas.core.frame.DataFrame'>\n",
      "Index: 3 entries, alice to charles\n",
      "Data columns (total 4 columns):\n",
      " #   Column     Non-Null Count  Dtype  \n",
      "---  ------     --------------  -----  \n",
      " 0   weight     3 non-null      int64  \n",
      " 1   birthyear  3 non-null      int64  \n",
      " 2   children   2 non-null      float64\n",
      " 3   hobby      2 non-null      object \n",
      "dtypes: float64(1), int64(2), object(1)\n",
      "memory usage: 228.0+ bytes\n",
      "None\n",
      "alice      1000.0\n",
      "bob           3.0\n",
      "charles       0.0\n",
      "Name: children, dtype: float64\n",
      "         weight  birthyear  children    hobby\n",
      "alice        68       2024    1000.0   Biking\n",
      "bob          83       1984       3.0  Dancing\n",
      "charles     112       1992       0.0      NaN\n"
     ]
    }
   ],
   "source": [
    "\n",
    "people_dict = {\n",
    "    \"weight\": pd.Series([68, 83, 112], index=[\"alice\", \"bob\", \"charles\"]),\n",
    "    \"birthyear\": pd.Series([1984, 1985, 1992], index=[\"bob\", \"alice\", \"charles\"], name=\"year\"),\n",
    "    \"children\": pd.Series([0, 3], index=[\"charles\", \"bob\"]),\n",
    "    \"hobby\": pd.Series([\"Biking\", \"Dancing\"], index=[\"alice\", \"bob\"]),\n",
    "}\n",
    "people = pd.DataFrame(people_dict)\n",
    "print(people)\n",
    "people.loc[\"alice\", \"birthyear\"] = 2024\n",
    "\n",
    "print(people.loc[(\"alice\", \"charles\"), :].loc[:, (\"weight\", \"children\")])\n",
    "\n",
    "people.fillna(11)\n",
    "print(type(people.loc[\"alice\", \"children\"]))\n",
    "\n",
    "print(\"-------------------\")\n",
    "print(people.isnull().any(axis=0))\n",
    "print(people.info())\n",
    "print(people.loc[:, \"children\"].fillna(1000))\n",
    "\n",
    "people.loc[:, \"children\"] = people.loc[:, \"children\"].fillna(1000)\n",
    "print(people)\n",
    "\n"
   ]
  },
  {
   "cell_type": "code",
   "execution_count": 12,
   "metadata": {},
   "outputs": [
    {
     "name": "stdout",
     "output_type": "stream",
     "text": [
      "         weight  birthyear  children\n",
      "alice        68       2024    1000.0\n",
      "bob          83       1984       3.0\n",
      "charles     112       1992       0.0\n",
      "[[ 1.05586203e-04 -3.51954009e-02  3.49467715e-02]\n",
      " [-5.93657365e-06  1.97885788e-03 -1.46287069e-03]\n",
      " [ 1.00483576e-03 -1.61192109e-03  5.84469810e-04]]\n"
     ]
    }
   ],
   "source": [
    "matrix = people.iloc[:, 0:3]\n",
    "print(matrix)\n",
    "print(np.linalg.inv(matrix))\n",
    "\n",
    "\n"
   ]
  },
  {
   "cell_type": "code",
   "execution_count": null,
   "metadata": {},
   "outputs": [],
   "source": []
  }
 ],
 "metadata": {
  "kernelspec": {
   "display_name": "Python 3",
   "language": "python",
   "name": "python3"
  },
  "language_info": {
   "codemirror_mode": {
    "name": "ipython",
    "version": 3
   },
   "file_extension": ".py",
   "mimetype": "text/x-python",
   "name": "python",
   "nbconvert_exporter": "python",
   "pygments_lexer": "ipython3",
   "version": "3.10.12"
  }
 },
 "nbformat": 4,
 "nbformat_minor": 2
}

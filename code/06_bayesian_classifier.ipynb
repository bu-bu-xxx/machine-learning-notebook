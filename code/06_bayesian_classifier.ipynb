{
 "cells": [
  {
   "cell_type": "markdown",
   "metadata": {},
   "source": [
    "# naive Bayesian classifier\n",
    "\n",
    "naive Bayes classifier is under attribute conditional independence assumption.\n",
    "\n",
    "$$P(c|\\mathbb{x})=\\frac{P(c)}{P(\\mathbb{x})}\\prod^d_{i=1}P(\\mathbb{x}_i|c)$$\n",
    "\n",
    "use Laplacian correction:\n",
    "\n",
    "$$\\hat{P}(c) = \\frac{|D_c|+1}{|D|+N} $$\n",
    "$$\\hat{P}(x_i|c) = \\frac{|D_{c,x_i}|+1}{|D_c|+N_i}$$ "
   ]
  },
  {
   "cell_type": "markdown",
   "metadata": {},
   "source": [
    "# Problem 3\n",
    "\n",
    "* problem7.3 :\n",
    " \n",
    "试编程实现拉普拉斯修正的朴素贝叶斯分类器，并以西瓜数据集 3.0\n",
    "为训练集，对 p.151 \"测 1\" 样本进行判别."
   ]
  },
  {
   "cell_type": "code",
   "execution_count": 3,
   "metadata": {},
   "outputs": [
    {
     "data": {
      "text/html": [
       "<div>\n",
       "<style scoped>\n",
       "    .dataframe tbody tr th:only-of-type {\n",
       "        vertical-align: middle;\n",
       "    }\n",
       "\n",
       "    .dataframe tbody tr th {\n",
       "        vertical-align: top;\n",
       "    }\n",
       "\n",
       "    .dataframe thead th {\n",
       "        text-align: right;\n",
       "    }\n",
       "</style>\n",
       "<table border=\"1\" class=\"dataframe\">\n",
       "  <thead>\n",
       "    <tr style=\"text-align: right;\">\n",
       "      <th></th>\n",
       "      <th>编号</th>\n",
       "      <th>色泽</th>\n",
       "      <th>根蒂</th>\n",
       "      <th>敲声</th>\n",
       "      <th>纹理</th>\n",
       "      <th>脐部</th>\n",
       "      <th>触感</th>\n",
       "      <th>密度</th>\n",
       "      <th>含糖率</th>\n",
       "      <th>好瓜</th>\n",
       "    </tr>\n",
       "  </thead>\n",
       "  <tbody>\n",
       "    <tr>\n",
       "      <th>0</th>\n",
       "      <td>1</td>\n",
       "      <td>青绿</td>\n",
       "      <td>蜷缩</td>\n",
       "      <td>浊响</td>\n",
       "      <td>清晰</td>\n",
       "      <td>凹陷</td>\n",
       "      <td>硬滑</td>\n",
       "      <td>0.697</td>\n",
       "      <td>0.460</td>\n",
       "      <td>是</td>\n",
       "    </tr>\n",
       "    <tr>\n",
       "      <th>1</th>\n",
       "      <td>2</td>\n",
       "      <td>乌黑</td>\n",
       "      <td>蜷缩</td>\n",
       "      <td>沉闷</td>\n",
       "      <td>清晰</td>\n",
       "      <td>凹陷</td>\n",
       "      <td>硬滑</td>\n",
       "      <td>0.774</td>\n",
       "      <td>0.376</td>\n",
       "      <td>是</td>\n",
       "    </tr>\n",
       "    <tr>\n",
       "      <th>2</th>\n",
       "      <td>3</td>\n",
       "      <td>乌黑</td>\n",
       "      <td>蜷缩</td>\n",
       "      <td>浊响</td>\n",
       "      <td>清晰</td>\n",
       "      <td>凹陷</td>\n",
       "      <td>硬滑</td>\n",
       "      <td>0.634</td>\n",
       "      <td>0.264</td>\n",
       "      <td>是</td>\n",
       "    </tr>\n",
       "    <tr>\n",
       "      <th>3</th>\n",
       "      <td>4</td>\n",
       "      <td>青绿</td>\n",
       "      <td>蜷缩</td>\n",
       "      <td>沉闷</td>\n",
       "      <td>清晰</td>\n",
       "      <td>凹陷</td>\n",
       "      <td>硬滑</td>\n",
       "      <td>0.608</td>\n",
       "      <td>0.318</td>\n",
       "      <td>是</td>\n",
       "    </tr>\n",
       "    <tr>\n",
       "      <th>4</th>\n",
       "      <td>5</td>\n",
       "      <td>浅白</td>\n",
       "      <td>蜷缩</td>\n",
       "      <td>浊响</td>\n",
       "      <td>清晰</td>\n",
       "      <td>凹陷</td>\n",
       "      <td>硬滑</td>\n",
       "      <td>0.556</td>\n",
       "      <td>0.215</td>\n",
       "      <td>是</td>\n",
       "    </tr>\n",
       "  </tbody>\n",
       "</table>\n",
       "</div>"
      ],
      "text/plain": [
       "   编号  色泽  根蒂  敲声  纹理  脐部  触感     密度    含糖率 好瓜\n",
       "0   1  青绿  蜷缩  浊响  清晰  凹陷  硬滑  0.697  0.460  是\n",
       "1   2  乌黑  蜷缩  沉闷  清晰  凹陷  硬滑  0.774  0.376  是\n",
       "2   3  乌黑  蜷缩  浊响  清晰  凹陷  硬滑  0.634  0.264  是\n",
       "3   4  青绿  蜷缩  沉闷  清晰  凹陷  硬滑  0.608  0.318  是\n",
       "4   5  浅白  蜷缩  浊响  清晰  凹陷  硬滑  0.556  0.215  是"
      ]
     },
     "execution_count": 3,
     "metadata": {},
     "output_type": "execute_result"
    }
   ],
   "source": [
    "import pandas as pd\n",
    "import numpy as np\n",
    "\n",
    "# import data\n",
    "data_melon = pd.read_csv(\"./dataset/西瓜数据集3.0.csv\")\n",
    "data_melon.head()"
   ]
  },
  {
   "cell_type": "code",
   "execution_count": 4,
   "metadata": {},
   "outputs": [
    {
     "data": {
      "text/html": [
       "<div>\n",
       "<style scoped>\n",
       "    .dataframe tbody tr th:only-of-type {\n",
       "        vertical-align: middle;\n",
       "    }\n",
       "\n",
       "    .dataframe tbody tr th {\n",
       "        vertical-align: top;\n",
       "    }\n",
       "\n",
       "    .dataframe thead th {\n",
       "        text-align: right;\n",
       "    }\n",
       "</style>\n",
       "<table border=\"1\" class=\"dataframe\">\n",
       "  <thead>\n",
       "    <tr style=\"text-align: right;\">\n",
       "      <th></th>\n",
       "      <th>编号</th>\n",
       "      <th>色泽</th>\n",
       "      <th>根蒂</th>\n",
       "      <th>敲声</th>\n",
       "      <th>纹理</th>\n",
       "      <th>脐部</th>\n",
       "      <th>触感</th>\n",
       "      <th>密度</th>\n",
       "      <th>含糖率</th>\n",
       "    </tr>\n",
       "  </thead>\n",
       "  <tbody>\n",
       "    <tr>\n",
       "      <th>0</th>\n",
       "      <td>测1</td>\n",
       "      <td>青绿</td>\n",
       "      <td>蜷缩</td>\n",
       "      <td>浊响</td>\n",
       "      <td>清晰</td>\n",
       "      <td>凹陷</td>\n",
       "      <td>硬滑</td>\n",
       "      <td>0.697</td>\n",
       "      <td>0.46</td>\n",
       "    </tr>\n",
       "  </tbody>\n",
       "</table>\n",
       "</div>"
      ],
      "text/plain": [
       "   编号  色泽  根蒂  敲声  纹理  脐部  触感     密度   含糖率\n",
       "0  测1  青绿  蜷缩  浊响  清晰  凹陷  硬滑  0.697  0.46"
      ]
     },
     "execution_count": 4,
     "metadata": {},
     "output_type": "execute_result"
    }
   ],
   "source": [
    "x_test = pd.DataFrame([[\"测1\", \"青绿\", \"蜷缩\", \"浊响\", \"清晰\",\n",
    "                    \"凹陷\", \"硬滑\", 0.697, 0.460]],\n",
    "                    columns=data_melon.columns[:-1])\n",
    "x_test"
   ]
  },
  {
   "cell_type": "code",
   "execution_count": 5,
   "metadata": {},
   "outputs": [
    {
     "name": "stdout",
     "output_type": "stream",
     "text": [
      "posterior probability of class ['否' '是']: [0.00207924 0.99792076]\n"
     ]
    }
   ],
   "source": [
    "from scipy.stats import norm\n",
    "\n",
    "# MLE\n",
    "# P(class)\n",
    "P_c_x = np.ones(2)\n",
    "c = np.unique(data_melon.loc[:, \"好瓜\"])\n",
    "P_c_x *= np.sum((data_melon.loc[:, \"好瓜\"].to_numpy().reshape(-1,1) == c).astype(int),\n",
    "                axis=0)/data_melon.shape[0]\n",
    "# P(xi|class)\n",
    "for i in range(len(c)):\n",
    "    data_c = data_melon[data_melon.loc[:, \"好瓜\"] == c[i]]\n",
    "    for xi_idx in x_test.iloc[0, 1:].index:\n",
    "        xi = x_test.iloc[0, :].loc[xi_idx]\n",
    "        if isinstance(xi, str):\n",
    "            P_c_x[i] *= (np.sum((data_c.loc[:, xi_idx] == xi).astype(int)) + 1) \\\n",
    "                / (data_c.shape[0] + np.unique(data_c.loc[:, xi_idx].to_numpy()).shape[0])\n",
    "        elif isinstance(xi, float):\n",
    "            Di_c = data_c.loc[:, xi_idx].to_numpy()\n",
    "            P_c_x[i] *= norm.pdf(xi, loc=np.mean(Di_c), scale=np.std(Di_c, ddof=1)) # ddof=1 is unbiased std\n",
    "        else:\n",
    "            raise ValueError(\"something wrong\")\n",
    "# normalization\n",
    "P_c_x = P_c_x / np.sum(P_c_x)\n",
    "print(f\"posterior probability of class {c}: {P_c_x}\")"
   ]
  },
  {
   "cell_type": "markdown",
   "metadata": {},
   "source": [
    "# Problem 10\n",
    "\n",
    "**Problem:**\n",
    "\n",
    "以西瓜数据集 2.0 中属性\"脐部\"为隐变量，试基于 EM 算法构建一\n",
    "个贝叶斯网.\n",
    "\n",
    "**Solution:**\n",
    "\n",
    "构建流程：\n",
    "\n",
    "1. 首先确定observation和latent variable，即确定好节点\n",
    "2. 根据BIC准则预先得到一个Bayesian network的结构\n",
    "3. 通过EM算法得到上面的Markov chain的条件概率\n",
    "\n",
    "具体实现就太麻烦了，不写了"
   ]
  }
 ],
 "metadata": {
  "kernelspec": {
   "display_name": "Python 3",
   "language": "python",
   "name": "python3"
  },
  "language_info": {
   "codemirror_mode": {
    "name": "ipython",
    "version": 3
   },
   "file_extension": ".py",
   "mimetype": "text/x-python",
   "name": "python",
   "nbconvert_exporter": "python",
   "pygments_lexer": "ipython3",
   "version": "3.10.12"
  }
 },
 "nbformat": 4,
 "nbformat_minor": 2
}

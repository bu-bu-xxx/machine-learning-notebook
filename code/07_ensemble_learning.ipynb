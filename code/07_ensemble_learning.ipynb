{
 "cells": [
  {
   "cell_type": "markdown",
   "metadata": {},
   "source": [
    "# sklearn\n"
   ]
  },
  {
   "cell_type": "markdown",
   "metadata": {},
   "source": [
    "## decision tree\n",
    "\n",
    "单棵决策树，作为一个对照实验\n",
    "\n",
    "使用的是数据集[wine](./dataset/wine/wine.names)"
   ]
  },
  {
   "cell_type": "code",
   "execution_count": 1,
   "metadata": {},
   "outputs": [],
   "source": [
    "# import dataset\n",
    "import os\n",
    "import pandas as pd\n",
    "import numpy as np\n",
    "from sklearn.model_selection import train_test_split\n",
    "\n",
    "def load_data():\n",
    "    DATA_PATH = \"./dataset/wine\"\n",
    "    wine_data = pd.read_csv(os.path.join(DATA_PATH, \"wine.data\"), header=None)\n",
    "    columns = [\n",
    "        \"class\",\n",
    "        \"Alcohol\",\n",
    "        \"Malic acid\",\n",
    "        \"Ash\",\n",
    "        \"Alcalinity of ash\",\n",
    "        \"Magnesium\",\n",
    "        \"Total phenols\",\n",
    "        \"Flavanoids\",\n",
    "        \"Nonflavanoid phenols\",\n",
    "        \"Proanthocyanins\",\n",
    "        \"Color intensity\",\n",
    "        \"Hue\",\n",
    "        \"OD280/OD315 of diluted wines\",\n",
    "        \"Proline\",\n",
    "    ]\n",
    "    wine_data.columns = columns\n",
    "\n",
    "    # split dataset into train set and test set\n",
    "    X_train, X_test, y_train, y_test = train_test_split(\n",
    "        wine_data.iloc[:, 1:], wine_data.iloc[:, 0], test_size=0.2, random_state=11\n",
    "    )\n",
    "    X_train.reset_index(drop=True, inplace=True)\n",
    "    X_test.reset_index(drop=True, inplace=True)\n",
    "    y_train.reset_index(drop=True, inplace=True)\n",
    "    y_test.reset_index(drop=True, inplace=True)\n",
    "    return X_train, X_test, y_train, y_test\n",
    "\n",
    "# load data\n",
    "X_train, X_test, y_train, y_test = load_data()\n",
    "X_train, X_test, y_train, y_test = (\n",
    "    X_train.to_numpy(),\n",
    "    X_test.to_numpy(),\n",
    "    y_train.to_numpy(),\n",
    "    y_test.to_numpy(),\n",
    ")"
   ]
  },
  {
   "cell_type": "code",
   "execution_count": 39,
   "metadata": {},
   "outputs": [
    {
     "name": "stdout",
     "output_type": "stream",
     "text": [
      "train set size: (142, 13), test set size: (36, 13)\n"
     ]
    }
   ],
   "source": [
    "print(f\"train set size: {X_train.shape}, test set size: {X_test.shape}\")"
   ]
  },
  {
   "cell_type": "code",
   "execution_count": 42,
   "metadata": {},
   "outputs": [
    {
     "name": "stdout",
     "output_type": "stream",
     "text": [
      "Decision tree with max_depth=4:\n",
      "accuracy on testing set: 0.9444444444444444\n",
      "f1 score on testing set: 0.9444444444444444\n"
     ]
    }
   ],
   "source": [
    "from sklearn.tree import DecisionTreeClassifier\n",
    "from sklearn.metrics import accuracy_score, f1_score\n",
    "\n",
    "decision_clf = DecisionTreeClassifier(max_depth=4, random_state=42)\n",
    "\n",
    "decision_clf.fit(X_train, y_train)\n",
    "decision_accuracy = accuracy_score(y_test, decision_clf.predict(X_test))\n",
    "decision_f1_score = f1_score(y_test, decision_clf.predict(X_test), average='micro')\n",
    "print(\"Decision tree with max_depth=4:\")\n",
    "print(f\"accuracy on testing set: {decision_accuracy}\")\n",
    "print(f\"f1 score on testing set: {decision_f1_score}\")"
   ]
  },
  {
   "cell_type": "markdown",
   "metadata": {},
   "source": [
    "## AdaBoost\n"
   ]
  },
  {
   "cell_type": "markdown",
   "metadata": {},
   "source": [
    "因为基学习器base learner应该为weak learner,如果decision tree作为base learner, max_depth=4时效果太好，不适合。所以我们采用max_depth=2的decision tree作为基学习器。"
   ]
  },
  {
   "cell_type": "code",
   "execution_count": 54,
   "metadata": {},
   "outputs": [
    {
     "name": "stdout",
     "output_type": "stream",
     "text": [
      "Accuracy: 0.9444444444444444\n",
      "F1 score: 0.9444444444444444\n"
     ]
    },
    {
     "name": "stderr",
     "output_type": "stream",
     "text": [
      "/home/zqy/.local/lib/python3.10/site-packages/sklearn/ensemble/_weight_boosting.py:527: FutureWarning: The SAMME.R algorithm (the default) is deprecated and will be removed in 1.6. Use the SAMME algorithm to circumvent this warning.\n",
      "  warnings.warn(\n"
     ]
    }
   ],
   "source": [
    "from sklearn.ensemble import AdaBoostClassifier\n",
    "from sklearn.tree import DecisionTreeClassifier\n",
    "from sklearn.metrics import f1_score, accuracy_score\n",
    "\n",
    "weak_learner = DecisionTreeClassifier(max_depth=2)\n",
    "adaboost_clf = AdaBoostClassifier(\n",
    "    estimator=weak_learner, \n",
    "    n_estimators=10, \n",
    "    random_state=33, \n",
    "    algorithm=\"SAMME.R\"\n",
    "    # SAMME.R is an enhanced version of SAMME, \n",
    "    # SAMME is a variant class classifier from AdaBoost.\n",
    ")\n",
    "adaboost_clf.fit(X_train, y_train)\n",
    "\n",
    "y_pred = adaboost_clf.predict(X_test)\n",
    "adaboost_accuracy = accuracy_score(y_test, y_pred)\n",
    "adaboost_f1_score = f1_score(y_test, y_pred, average=\"micro\")\n",
    "print(\"Accuracy:\", adaboost_accuracy)\n",
    "print(\"F1 score:\", adaboost_f1_score)"
   ]
  },
  {
   "cell_type": "markdown",
   "metadata": {},
   "source": [
    "## Bagging"
   ]
  },
  {
   "cell_type": "code",
   "execution_count": 63,
   "metadata": {},
   "outputs": [
    {
     "name": "stdout",
     "output_type": "stream",
     "text": [
      "Bagging accuracy: 0.9722222222222222\n",
      "Bagging F1 score: 0.9722222222222222\n"
     ]
    }
   ],
   "source": [
    "from sklearn.ensemble import BaggingClassifier\n",
    "from sklearn.tree import DecisionTreeClassifier\n",
    "from sklearn.metrics import accuracy_score, f1_score\n",
    "\n",
    "bagging_clf = BaggingClassifier(\n",
    "    estimator=DecisionTreeClassifier(random_state=42, max_depth=2),\n",
    "    random_state=42,\n",
    "    n_estimators=10,\n",
    "    max_samples=0.8,\n",
    ")\n",
    "bagging_clf.fit(X_train, y_train)\n",
    "y_pred = bagging_clf.predict(X_test)\n",
    "print(\"Bagging accuracy:\", accuracy_score(y_test, y_pred))\n",
    "print(\"Bagging F1 score:\", f1_score(y_test, y_pred, average=\"micro\"))"
   ]
  },
  {
   "cell_type": "markdown",
   "metadata": {},
   "source": [
    "## Random Forest"
   ]
  },
  {
   "cell_type": "code",
   "execution_count": 29,
   "metadata": {},
   "outputs": [
    {
     "name": "stdout",
     "output_type": "stream",
     "text": [
      "Random Forest Classifier:\n",
      "Accuracy: 1.0\n",
      "F1 Score: 1.0\n"
     ]
    }
   ],
   "source": [
    "from sklearn.ensemble import RandomForestClassifier\n",
    "from sklearn.metrics import accuracy_score, f1_score\n",
    "\n",
    "rf_clf = RandomForestClassifier(\n",
    "    max_depth=2,\n",
    "    random_state=42,\n",
    "    max_features='sqrt',\n",
    "    n_estimators=10\n",
    ")\n",
    "\n",
    "rf_clf.fit(X_train, y_train)\n",
    "y_pred = rf_clf.predict(X_test)\n",
    "\n",
    "print('Random Forest Classifier:')\n",
    "print('Accuracy:', accuracy_score(y_test, y_pred))\n",
    "print('F1 Score:', f1_score(y_test, y_pred, average='micro'))"
   ]
  },
  {
   "cell_type": "markdown",
   "metadata": {},
   "source": [
    "可见RF的效果特别好"
   ]
  },
  {
   "cell_type": "markdown",
   "metadata": {},
   "source": [
    "# Numpy"
   ]
  },
  {
   "cell_type": "markdown",
   "metadata": {},
   "source": [
    "自己写一个random forest的实现"
   ]
  },
  {
   "cell_type": "code",
   "execution_count": 2,
   "metadata": {},
   "outputs": [],
   "source": [
    "X_train, X_test, y_train, y_test = load_data()"
   ]
  },
  {
   "cell_type": "code",
   "execution_count": 3,
   "metadata": {},
   "outputs": [
    {
     "name": "stdout",
     "output_type": "stream",
     "text": [
      "Accuracy: 1.0\n"
     ]
    }
   ],
   "source": [
    "from Numpy import RandomForestClassifier\n",
    "from sklearn.metrics import accuracy_score\n",
    "\n",
    "rf_clf = RandomForestClassifier(\n",
    "    max_depth=2, max_features=\"sqrt\", n_estimators=100, replacement=False\n",
    ")\n",
    "rf_clf.fit(X_train, y_train)\n",
    "y_pred = rf_clf.predict(X_test)\n",
    "accuracy = accuracy_score(y_test, y_pred)\n",
    "print(\"Accuracy:\", accuracy)"
   ]
  }
 ],
 "metadata": {
  "kernelspec": {
   "display_name": "Python 3",
   "language": "python",
   "name": "python3"
  },
  "language_info": {
   "codemirror_mode": {
    "name": "ipython",
    "version": 3
   },
   "file_extension": ".py",
   "mimetype": "text/x-python",
   "name": "python",
   "nbconvert_exporter": "python",
   "pygments_lexer": "ipython3",
   "version": "3.10.12"
  }
 },
 "nbformat": 4,
 "nbformat_minor": 2
}
